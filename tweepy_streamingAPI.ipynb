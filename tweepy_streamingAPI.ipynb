{
 "cells": [
  {
   "cell_type": "markdown",
   "metadata": {},
   "source": [
    "# Setup and install necessary packages"
   ]
  },
  {
   "cell_type": "code",
   "execution_count": null,
   "metadata": {},
   "outputs": [],
   "source": [
    "# Please make sure to install the package Tweepy \n",
    "# pip install tweepy\n",
    "\n",
    "# Load the library\n",
    "import tweepy\n",
    "from tweepy.auth import OAuthHandler\n",
    "from tweepy import Stream\n",
    "from tweepy.streaming import StreamListener\n",
    "\n",
    "# This part is responsible of getting the data, and printing the data.\n",
    "# It's a basic listener, writing tweets to the output file (filename).\n",
    "class StdOutListener(StreamListener):\n",
    "    def on_data(self, data):\n",
    "        #print data\n",
    "        with open(filename,'a') as tf:\n",
    "            tf.write(data)\n",
    "        return True\n",
    "\n",
    "    def on_error(self, status):\n",
    "        print(status)\n",
    "\n",
    "l = StdOutListener()"
   ]
  },
  {
   "cell_type": "markdown",
   "metadata": {},
   "source": [
    "# Set up the credentials, hashtags, and filename here"
   ]
  },
  {
   "cell_type": "code",
   "execution_count": null,
   "metadata": {},
   "outputs": [],
   "source": [
    "# Please add your Twitter API user credentials here. \n",
    "# The tokens and keys below are invalid.\n",
    "\n",
    "access_token = \"11231679747556123683-4s6jMP8Tdqc3mgGXFEqztffhSJPRpm\"\n",
    "access_token_secret = \"sq2J3rIaNna4BiS4VpjKH4i7HLdA3iXRPUlVkIAP8CS2r\"\n",
    "api_key = \"OXHxsfNZtmPgNcptFJ5T2lJd7\"\n",
    "api_secret_key = \"A9fVqdkG53i0Hdx4t2CV8nCEcb6GGcKXNcUP23gXSKDMcdRNfh\"\n",
    "\n",
    "# Define a list of trackable hash tags or character strings\n",
    "# that you would like to get data on.\n",
    "\n",
    "tracking = ['#fortnite', '#TravisScott','#travisscott','#travisscottfortnite','#fortnitetravisScott','#astronomical','#astroworld'] \n",
    "#tracking multiple keywords/hashtags\n",
    "\n",
    "# Define file in which to write the Tweets \n",
    "filename = 'fortnite_stream.json'"
   ]
  },
  {
   "cell_type": "markdown",
   "metadata": {},
   "source": [
    "# Start your data collection"
   ]
  },
  {
   "cell_type": "code",
   "execution_count": null,
   "metadata": {},
   "outputs": [],
   "source": [
    "print('Writing to...' + filename)\n",
    "\n",
    "while True:\n",
    "    try:\n",
    "        auth = OAuthHandler(api_key, api_secret_key)\n",
    "        auth.set_access_token(access_token, access_token_secret)\n",
    "        stream = Stream(auth, l)\n",
    "        stream.filter(track=tracking)\n",
    "    except:\n",
    "        print('Error in data collection; check internet connection and API retrieval limit. If this error persists, please restart Jupyter Notebook.')"
   ]
  }
 ],
 "metadata": {
  "kernelspec": {
   "display_name": "Python 3",
   "language": "python",
   "name": "python3"
  },
  "language_info": {
   "codemirror_mode": {
    "name": "ipython",
    "version": 3
   },
   "file_extension": ".py",
   "mimetype": "text/x-python",
   "name": "python",
   "nbconvert_exporter": "python",
   "pygments_lexer": "ipython3",
   "version": "3.7.4"
  }
 },
 "nbformat": 4,
 "nbformat_minor": 2
}