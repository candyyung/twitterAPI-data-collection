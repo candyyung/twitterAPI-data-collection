{
 "metadata": {
  "language_info": {
   "codemirror_mode": {
    "name": "ipython",
    "version": 3
   },
   "file_extension": ".py",
   "mimetype": "text/x-python",
   "name": "python",
   "nbconvert_exporter": "python",
   "pygments_lexer": "ipython3",
   "version": "3.7.3"
  },
  "orig_nbformat": 2,
  "kernelspec": {
   "name": "python373jvsc74a57bd031f2aee4e71d21fbe5cf8b01ff0e069b9275f58929596ceb00d14d90e3e16cd6",
   "display_name": "Python 3.7.3 64-bit"
  },
  "metadata": {
   "interpreter": {
    "hash": "31f2aee4e71d21fbe5cf8b01ff0e069b9275f58929596ceb00d14d90e3e16cd6"
   }
  }
 },
 "nbformat": 4,
 "nbformat_minor": 2,
 "cells": [
  {
   "source": [
    "## Setup and install necessary packages"
   ],
   "cell_type": "markdown",
   "metadata": {}
  },
  {
   "cell_type": "code",
   "execution_count": null,
   "metadata": {},
   "outputs": [],
   "source": [
    "#Load the library\n",
    "import tweepy\n",
    "import json"
   ]
  },
  {
   "source": [
    "## Set up credentials  "
   ],
   "cell_type": "markdown",
   "metadata": {}
  },
  {
   "cell_type": "code",
   "execution_count": null,
   "metadata": {},
   "outputs": [],
   "source": [
    "#Input your own token and API key below\n",
    "# The tokens and keys below are invalid.\n",
    "\n",
    "access_token = \"1231467974755655683-4s6jMP8Tdqc3mgGXFEqztffhSJPRpm\" \n",
    "access_token_secret = \"sq1J23rIaNna4BiS4VpjKH4i7HLdA2iXRPUlVkIAP8CS2r\" \n",
    "api_key = \"OXHxsfNZtmPgNcptFJ4T5lJd5\"  \n",
    "api_secret_key = \"A9fVqdkG12i0Hdx4t3CV8nCEcb6GGcKXNcUP91gXSKDMcdRNfh\" "
   ]
  },
  {
   "source": [
    "## Input the hastags and neccessary settings for Rest API & collect the data"
   ],
   "cell_type": "markdown",
   "metadata": {}
  },
  {
   "cell_type": "code",
   "execution_count": null,
   "metadata": {},
   "outputs": [],
   "source": [
    "#REST API \n",
    "auth = tweepy.AppAuthHandler(api_key, api_secret_key)\n",
    "api = tweepy.API(auth, wait_on_rate_limit=True, wait_on_rate_limit_notify=True)\n",
    "\n",
    "if (not api):\n",
    "    print (\"Can't Authenticate\")\n",
    "    sys.exit(-1)\n",
    "    \n",
    "filename = 'fortnite25.json' #Save to file name (appends, does not overwrite)\n",
    "searchQuery = '#fortnite OR #TravisScott OR #travisscott OR #travisscottfortnite OR #fortnitetravisScott OR #astronomical OR #astroworld' #What do you want\n",
    "maxTweetsTotal = 44900 #Find how many tweets you want\n",
    "tweetsPerQry = 100 #Max API limit\n",
    "sinceWhen = '2020-04-25' #From when\n",
    "untilWhen = '2020-04-26' #Till when (take account of end date)\n",
    "\n",
    "for tweet in tweepy.Cursor(api.search,\n",
    "                           q=searchQuery,\n",
    "                           count=tweetsPerQry,\n",
    "                           since=sinceWhen,\n",
    "                           until=untilWhen).items(maxTweetsTotal):\n",
    "    json_string = json.dumps(tweet._json)\n",
    "    # print (json_string) # just to test\n",
    "    with open(filename, 'a') as json_file:\n",
    "        json_file.write(json_string + '\\n')"
   ]
  }
 ]
}