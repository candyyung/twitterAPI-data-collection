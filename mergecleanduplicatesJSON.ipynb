{
 "cells": [
  {
   "source": [
    "## Merge the tweets from streaming API and REST API"
   ],
   "cell_type": "markdown",
   "metadata": {}
  },
  {
   "cell_type": "code",
   "execution_count": null,
   "metadata": {},
   "outputs": [],
   "source": [
    "#load the library\n",
    "import json\n",
    "from datetime import datetime"
   ]
  },
  {
   "cell_type": "code",
   "execution_count": 1,
   "metadata": {},
   "outputs": [],
   "source": [
    "#Open both .json files\n",
    "with open('fortnite_event_live.json') as fileStream:\n",
    "    streamData = fileStream.read()\n",
    "    \n",
    "with open('fortnite_event_historic.json') as fileSearch:\n",
    "    searchData = fileSearch.read()\n",
    "\n",
    "#combine both json data\n",
    "combinedData = (streamData + searchData)\n",
    "\n",
    "#write to new .json file\n",
    "with open('fortnite_event_combined.json', 'w') as fileCombined:\n",
    "    fileCombined.write(combinedData)\n"
   ]
  },
  {
   "source": [
    "## Deduplicate the tweets"
   ],
   "cell_type": "markdown",
   "metadata": {}
  },
  {
   "cell_type": "code",
   "execution_count": 2,
   "metadata": {},
   "outputs": [],
   "source": [
    "#reopen the new combined file, remove duplicates using \"id\" key/value\n",
    "with open('fortnite_event_combined.json', 'r') as fileCombined:\n",
    "    tweetsDuplicates = map(json.loads, fileCombined)\n",
    "    uniques = {} #initialize dict\n",
    "    for x in tweetsDuplicates:\n",
    "        tweetID = x['id']\n",
    "        if tweetID not in uniques:\n",
    "            uniques[tweetID] = x\n",
    "    \n",
    "#write to new file using the unique values    \n",
    "with open('fortnite_event_uniques.json', 'w') as fileUnique:\n",
    "    for k in uniques.values():\n",
    "        fileUnique.write(json.dumps(k))\n",
    "        fileUnique.write('\\n')"
   ]
  },
  {
   "cell_type": "code",
   "execution_count": 3,
   "metadata": {},
   "outputs": [],
   "source": [
    "#reopen the new file with unique tweets, sort by timestamp\n",
    "with open('fortnite_event_uniques.json', 'r') as fileUnique:\n",
    "    tweetsUniques = map(json.loads, fileUnique)\n",
    "    tweetsSorted = sorted(tweetsUniques, key=lambda l: datetime.strptime(l['created_at'],'%a %b %d %X %z %Y'))\n",
    "\n",
    "#write to new file using the sorted unique values    \n",
    "with open('fortnite_event_sorted.json', 'w') as fileSorted:\n",
    "    for m in tweetsSorted:\n",
    "        fileSorted.write(json.dumps(m))\n",
    "        fileSorted.write('\\n')    "
   ]
  }
 ],
 "metadata": {
  "kernelspec": {
   "display_name": "Python 3",
   "language": "python",
   "name": "python3"
  },
  "language_info": {
   "codemirror_mode": {
    "name": "ipython",
    "version": 3
   },
   "file_extension": ".py",
   "mimetype": "text/x-python",
   "name": "python",
   "nbconvert_exporter": "python",
   "pygments_lexer": "ipython3",
   "version": "3.7.4"
  }
 },
 "nbformat": 4,
 "nbformat_minor": 4
}